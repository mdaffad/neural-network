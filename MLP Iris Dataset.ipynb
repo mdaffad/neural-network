{
 "cells": [
  {
   "cell_type": "code",
   "execution_count": 28,
   "metadata": {},
   "outputs": [
    {
     "data": {
      "text/plain": [
       "1.0"
      ]
     },
     "execution_count": 28,
     "metadata": {},
     "output_type": "execute_result"
    }
   ],
   "source": [
    "from sklearn.datasets import load_iris\n",
    "from sklearn.model_selection import train_test_split\n",
    "from sklearn.neural_network import MLPClassifier\n",
    "\n",
    "data = load_iris(as_frame = True)\n",
    "full_data_X, full_data_Y = load_iris(return_X_y = True, as_frame=True)\n",
    "X_train, X_test, y_train, y_test = train_test_split(full_data_X, full_data_Y)\n",
    "\n",
    "\n",
    "# full_data_X.head()\n",
    "\n",
    "clf = MLPClassifier(hidden_layer_sizes = 1, activation = 'identity', solver = 'sgd', batch_size = 2, \n",
    "                    learning_rate = 'constant', learning_rate_init = 0.001, max_iter = 300)\n",
    "clf.fit(X_train, y_train)\n",
    "# clf.predict_proba(X_test[:1])\n",
    "clf.predict(X_test)\n",
    "clf.score(X_test, y_test)"
   ]
  },
  {
   "cell_type": "code",
   "execution_count": null,
   "metadata": {},
   "outputs": [],
   "source": []
  }
 ],
 "metadata": {
  "kernelspec": {
   "display_name": "Python 3",
   "language": "python",
   "name": "python3"
  },
  "language_info": {
   "codemirror_mode": {
    "name": "ipython",
    "version": 3
   },
   "file_extension": ".py",
   "mimetype": "text/x-python",
   "name": "python",
   "nbconvert_exporter": "python",
   "pygments_lexer": "ipython3",
   "version": "3.6.8"
  }
 },
 "nbformat": 4,
 "nbformat_minor": 2
}
