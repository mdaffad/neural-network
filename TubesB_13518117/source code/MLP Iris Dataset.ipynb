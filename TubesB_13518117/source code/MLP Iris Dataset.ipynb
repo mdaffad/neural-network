{
 "cells": [
  {
   "cell_type": "markdown",
   "metadata": {},
   "source": [
    "# MLP Skle"
   ]
  },
  {
   "cell_type": "code",
   "execution_count": 2,
   "metadata": {},
   "outputs": [
    {
     "data": {
      "text/plain": [
       "0.6666666666666666"
      ]
     },
     "execution_count": 2,
     "metadata": {},
     "output_type": "execute_result"
    }
   ],
   "source": [
    "from sklearn.datasets import load_iris\n",
    "from sklearn.model_selection import train_test_split\n",
    "from sklearn.neural_network import MLPClassifier\n",
    "\n",
    "data = load_iris(as_frame = True)\n",
    "full_data_X, full_data_Y = load_iris(return_X_y = True, as_frame=True)\n",
    "\n",
    "clf = MLPClassifier(hidden_layer_sizes = 3, activation = 'logistic', solver = 'sgd', batch_size = 2, \n",
    "                    learning_rate = 'constant', learning_rate_init = 0.05, max_iter = 100, tol = 0.05)\n",
    "\n",
    "clf.fit(full_data_X, full_data_Y)\n",
    "clf.predict(full_data_X)\n",
    "clf.score(full_data_X, full_data_Y)"
   ]
  },
  {
   "cell_type": "code",
   "execution_count": null,
   "metadata": {},
   "outputs": [],
   "source": []
  }
 ],
 "metadata": {
  "kernelspec": {
   "display_name": "Python 3",
   "language": "python",
   "name": "python3"
  },
  "language_info": {
   "codemirror_mode": {
    "name": "ipython",
    "version": 3
   },
   "file_extension": ".py",
   "mimetype": "text/x-python",
   "name": "python",
   "nbconvert_exporter": "python",
   "pygments_lexer": "ipython3",
   "version": "3.6.8"
  }
 },
 "nbformat": 4,
 "nbformat_minor": 2
}
